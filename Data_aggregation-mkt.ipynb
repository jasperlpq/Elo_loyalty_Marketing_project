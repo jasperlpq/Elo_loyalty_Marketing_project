{
 "cells": [
  {
   "cell_type": "markdown",
   "metadata": {},
   "source": [
    "Inspired by Chau Ngoc Huynh's kernel"
   ]
  },
  {
   "cell_type": "code",
   "execution_count": 1,
   "metadata": {
    "colab": {},
    "colab_type": "code",
    "id": "acwevJHnmlWs"
   },
   "outputs": [],
   "source": [
    "import pandas as pd\n",
    "import numpy as np"
   ]
  },
  {
   "cell_type": "code",
   "execution_count": 39,
   "metadata": {},
   "outputs": [],
   "source": [
    "import matplotlib.pyplot as plt\n",
    "\n",
    "from sklearn.model_selection import train_test_split\n",
    "from sklearn.model_selection import GridSearchCV\n",
    "from sklearn.model_selection import KFold\n",
    "from sklearn.model_selection import cross_val_score\n",
    "from sklearn.metrics import mean_squared_error\n",
    "\n",
    "import xgboost as xgb\n",
    "import lightgbm as lgb\n",
    "from xgboost import XGBRegressor\n",
    "from lightgbm import LGBMRegressor"
   ]
  },
  {
   "cell_type": "code",
   "execution_count": 3,
   "metadata": {},
   "outputs": [],
   "source": [
    "import datetime\n",
    "import gc\n",
    "import warnings\n",
    "warnings.filterwarnings('ignore')"
   ]
  },
  {
   "cell_type": "code",
   "execution_count": 4,
   "metadata": {
    "colab": {
     "base_uri": "https://localhost:8080/",
     "height": 421
    },
    "colab_type": "code",
    "executionInfo": {
     "elapsed": 1065,
     "status": "error",
     "timestamp": 1576096171930,
     "user": {
      "displayName": "Xinrui Yan",
      "photoUrl": "",
      "userId": "11880487938041261489"
     },
     "user_tz": 480
    },
    "id": "KqcvuZRFmHwl",
    "outputId": "390d3ab4-5de7-4905-ea02-546e353bd4dd"
   },
   "outputs": [],
   "source": [
    "df_train = pd.read_csv('train.csv')\n",
    "df_test = pd.read_csv('test.csv')\n",
    "df_hist_trans = pd.read_csv('historical_transactions.csv')\n",
    "df_new_merchant_trans = pd.read_csv('new_merchant_transactions.csv')"
   ]
  },
  {
   "cell_type": "code",
   "execution_count": 5,
   "metadata": {},
   "outputs": [
    {
     "data": {
      "text/html": [
       "<div>\n",
       "<style scoped>\n",
       "    .dataframe tbody tr th:only-of-type {\n",
       "        vertical-align: middle;\n",
       "    }\n",
       "\n",
       "    .dataframe tbody tr th {\n",
       "        vertical-align: top;\n",
       "    }\n",
       "\n",
       "    .dataframe thead th {\n",
       "        text-align: right;\n",
       "    }\n",
       "</style>\n",
       "<table border=\"1\" class=\"dataframe\">\n",
       "  <thead>\n",
       "    <tr style=\"text-align: right;\">\n",
       "      <th></th>\n",
       "      <th>first_active_month</th>\n",
       "      <th>card_id</th>\n",
       "      <th>feature_1</th>\n",
       "      <th>feature_2</th>\n",
       "      <th>feature_3</th>\n",
       "      <th>target</th>\n",
       "    </tr>\n",
       "  </thead>\n",
       "  <tbody>\n",
       "    <tr>\n",
       "      <th>0</th>\n",
       "      <td>2017-06</td>\n",
       "      <td>C_ID_92a2005557</td>\n",
       "      <td>5</td>\n",
       "      <td>2</td>\n",
       "      <td>1</td>\n",
       "      <td>-0.820283</td>\n",
       "    </tr>\n",
       "    <tr>\n",
       "      <th>1</th>\n",
       "      <td>2017-01</td>\n",
       "      <td>C_ID_3d0044924f</td>\n",
       "      <td>4</td>\n",
       "      <td>1</td>\n",
       "      <td>0</td>\n",
       "      <td>0.392913</td>\n",
       "    </tr>\n",
       "    <tr>\n",
       "      <th>2</th>\n",
       "      <td>2016-08</td>\n",
       "      <td>C_ID_d639edf6cd</td>\n",
       "      <td>2</td>\n",
       "      <td>2</td>\n",
       "      <td>0</td>\n",
       "      <td>0.688056</td>\n",
       "    </tr>\n",
       "    <tr>\n",
       "      <th>3</th>\n",
       "      <td>2017-09</td>\n",
       "      <td>C_ID_186d6a6901</td>\n",
       "      <td>4</td>\n",
       "      <td>3</td>\n",
       "      <td>0</td>\n",
       "      <td>0.142495</td>\n",
       "    </tr>\n",
       "    <tr>\n",
       "      <th>4</th>\n",
       "      <td>2017-11</td>\n",
       "      <td>C_ID_cdbd2c0db2</td>\n",
       "      <td>1</td>\n",
       "      <td>3</td>\n",
       "      <td>0</td>\n",
       "      <td>-0.159749</td>\n",
       "    </tr>\n",
       "  </tbody>\n",
       "</table>\n",
       "</div>"
      ],
      "text/plain": [
       "  first_active_month          card_id  feature_1  feature_2  feature_3  \\\n",
       "0            2017-06  C_ID_92a2005557          5          2          1   \n",
       "1            2017-01  C_ID_3d0044924f          4          1          0   \n",
       "2            2016-08  C_ID_d639edf6cd          2          2          0   \n",
       "3            2017-09  C_ID_186d6a6901          4          3          0   \n",
       "4            2017-11  C_ID_cdbd2c0db2          1          3          0   \n",
       "\n",
       "     target  \n",
       "0 -0.820283  \n",
       "1  0.392913  \n",
       "2  0.688056  \n",
       "3  0.142495  \n",
       "4 -0.159749  "
      ]
     },
     "execution_count": 5,
     "metadata": {},
     "output_type": "execute_result"
    }
   ],
   "source": [
    "df_train.head()"
   ]
  },
  {
   "cell_type": "code",
   "execution_count": 6,
   "metadata": {
    "colab": {},
    "colab_type": "code",
    "id": "wI05l9ZhmMQ0"
   },
   "outputs": [
    {
     "name": "stdout",
     "output_type": "stream",
     "text": [
      "<class 'pandas.core.frame.DataFrame'>\n",
      "RangeIndex: 201917 entries, 0 to 201916\n",
      "Data columns (total 6 columns):\n",
      "first_active_month    201917 non-null object\n",
      "card_id               201917 non-null object\n",
      "feature_1             201917 non-null int64\n",
      "feature_2             201917 non-null int64\n",
      "feature_3             201917 non-null int64\n",
      "target                201917 non-null float64\n",
      "dtypes: float64(1), int64(3), object(2)\n",
      "memory usage: 9.2+ MB\n"
     ]
    }
   ],
   "source": [
    "df_train.info()"
   ]
  },
  {
   "cell_type": "markdown",
   "metadata": {},
   "source": [
    "## Data Preprocessing"
   ]
  },
  {
   "cell_type": "code",
   "execution_count": 7,
   "metadata": {},
   "outputs": [],
   "source": [
    "# Fill NAs\n",
    "for df in [df_hist_trans,df_new_merchant_trans]:\n",
    "    df['category_2'].fillna(1.0,inplace=True)\n",
    "    df['category_3'].fillna('A',inplace=True)\n",
    "    df['merchant_id'].fillna('M_ID_00a6ca8a8a',inplace=True)"
   ]
  },
  {
   "cell_type": "code",
   "execution_count": 8,
   "metadata": {},
   "outputs": [],
   "source": [
    "# Convert dates\n",
    "for df in [df_hist_trans,df_new_merchant_trans]:\n",
    "    df['purchase_date'] = pd.to_datetime(df['purchase_date'])\n",
    "    df['year'] = df['purchase_date'].dt.year\n",
    "    df['weekofyear'] = df['purchase_date'].dt.weekofyear\n",
    "    df['month'] = df['purchase_date'].dt.month\n",
    "    df['dayofweek'] = df['purchase_date'].dt.dayofweek\n",
    "    df['weekend'] = (df.purchase_date.dt.weekday >=5).astype(int)\n",
    "    df['hour'] = df['purchase_date'].dt.hour\n",
    "    df['authorized_flag'] = df['authorized_flag'].map({'Y':1, 'N':0})\n",
    "    df['category_1'] = df['category_1'].map({'Y':1, 'N':0}) \n",
    "    df['month_diff'] = ((datetime.datetime.today() - df['purchase_date']).dt.days)//30\n",
    "    df['month_diff'] += df['month_lag']"
   ]
  },
  {
   "cell_type": "markdown",
   "metadata": {},
   "source": [
    "## Aggregate new features to data"
   ]
  },
  {
   "cell_type": "code",
   "execution_count": 9,
   "metadata": {},
   "outputs": [],
   "source": [
    "def get_new_columns(name,aggs):\n",
    "    return [name + '_' + k + '_' + agg for k in aggs.keys() for agg in aggs[k]]"
   ]
  },
  {
   "cell_type": "code",
   "execution_count": 10,
   "metadata": {},
   "outputs": [
    {
     "data": {
      "text/plain": [
       "39"
      ]
     },
     "execution_count": 10,
     "metadata": {},
     "output_type": "execute_result"
    }
   ],
   "source": [
    "# Aggregate history transactions\n",
    "aggs = {}\n",
    "for col in ['month','hour','weekofyear','dayofweek','year',\\\n",
    "            'subsector_id','merchant_id','merchant_category_id']:\n",
    "    aggs[col] = ['nunique']\n",
    "\n",
    "aggs['purchase_amount'] = ['sum','max','min','mean','var']\n",
    "aggs['installments'] = ['sum','max','min','mean','var']\n",
    "aggs['purchase_date'] = ['max','min']\n",
    "aggs['month_lag'] = ['max','min','mean','var']\n",
    "aggs['month_diff'] = ['mean']\n",
    "aggs['authorized_flag'] = ['sum', 'mean']\n",
    "aggs['weekend'] = ['sum', 'mean']\n",
    "aggs['category_1'] = ['sum', 'mean']\n",
    "aggs['card_id'] = ['size']\n",
    "\n",
    "for col in ['category_2','category_3']:\n",
    "    df_hist_trans[col+'_mean'] = df_hist_trans.groupby([col])\\\n",
    "                                    ['purchase_amount'].transform('mean')\n",
    "    aggs[col+'_mean'] = ['mean']    \n",
    "\n",
    "new_columns = get_new_columns('hist',aggs)\n",
    "df_hist_trans_group = df_hist_trans.groupby('card_id').agg(aggs)\n",
    "df_hist_trans_group.columns = new_columns\n",
    "df_hist_trans_group.reset_index(drop=False,inplace=True)\n",
    "df_hist_trans_group['hist_purchase_date_diff'] = (df_hist_trans_group['hist_purchase_date_max']\\\n",
    "                                            - df_hist_trans_group['hist_purchase_date_min']).dt.days\n",
    "df_hist_trans_group['hist_purchase_date_average'] = df_hist_trans_group['hist_purchase_date_diff']\\\n",
    "                                                    / df_hist_trans_group['hist_card_id_size']\n",
    "df_hist_trans_group['hist_purchase_date_uptonow'] = (datetime.datetime.today()\\\n",
    "                                            - df_hist_trans_group['hist_purchase_date_max']).dt.days\n",
    "df_train = df_train.merge(df_hist_trans_group,on='card_id',how='left')\n",
    "df_test = df_test.merge(df_hist_trans_group,on='card_id',how='left')\n",
    "del df_hist_trans_group;gc.collect()"
   ]
  },
  {
   "cell_type": "code",
   "execution_count": 11,
   "metadata": {},
   "outputs": [
    {
     "data": {
      "text/plain": [
       "21"
      ]
     },
     "execution_count": 11,
     "metadata": {},
     "output_type": "execute_result"
    }
   ],
   "source": [
    "# Aggregate new transactions\n",
    "aggs = {}\n",
    "for col in ['month','hour','weekofyear','dayofweek','year',\\\n",
    "            'subsector_id','merchant_id','merchant_category_id']:\n",
    "    aggs[col] = ['nunique']\n",
    "aggs['purchase_amount'] = ['sum','max','min','mean','var']\n",
    "aggs['installments'] = ['sum','max','min','mean','var']\n",
    "aggs['purchase_date'] = ['max','min']\n",
    "aggs['month_lag'] = ['max','min','mean','var']\n",
    "aggs['month_diff'] = ['mean']\n",
    "aggs['weekend'] = ['sum', 'mean']\n",
    "aggs['category_1'] = ['sum', 'mean']\n",
    "aggs['card_id'] = ['size']\n",
    "\n",
    "for col in ['category_2','category_3']:\n",
    "    df_new_merchant_trans[col+'_mean'] = df_new_merchant_trans.groupby([col])\\\n",
    "                                            ['purchase_amount'].transform('mean')\n",
    "    aggs[col+'_mean'] = ['mean']\n",
    "    \n",
    "new_columns = get_new_columns('new_hist',aggs)\n",
    "df_hist_trans_group = df_new_merchant_trans.groupby('card_id').agg(aggs)\n",
    "df_hist_trans_group.columns = new_columns\n",
    "df_hist_trans_group.reset_index(drop=False,inplace=True)\n",
    "df_hist_trans_group['new_hist_purchase_date_diff'] =\\\n",
    "        (df_hist_trans_group['new_hist_purchase_date_max']\\\n",
    "       - df_hist_trans_group['new_hist_purchase_date_min']).dt.days\n",
    "df_hist_trans_group['new_hist_purchase_date_average'] =\\\n",
    "        df_hist_trans_group['new_hist_purchase_date_diff']\\\n",
    "       /df_hist_trans_group['new_hist_card_id_size']\n",
    "df_hist_trans_group['new_hist_purchase_date_uptonow'] =\\\n",
    "        (datetime.datetime.today()\\\n",
    "       - df_hist_trans_group['new_hist_purchase_date_max']).dt.days\n",
    "df_train = df_train.merge(df_hist_trans_group,on='card_id',how='left')\n",
    "df_test = df_test.merge(df_hist_trans_group,on='card_id',how='left')\n",
    "del df_hist_trans_group;gc.collect()"
   ]
  },
  {
   "cell_type": "markdown",
   "metadata": {},
   "source": [
    "## Visualize target data "
   ]
  },
  {
   "cell_type": "code",
   "execution_count": 12,
   "metadata": {},
   "outputs": [
    {
     "data": {
      "image/png": "[encoded data removed]",
      "text/plain": [
       "<Figure size 432x288 with 1 Axes>"
      ]
     },
     "metadata": {
      "needs_background": "light"
     },
     "output_type": "display_data"
    }
   ],
   "source": [
    "# Plot the distribution of target variable\n",
    "plt.hist(df_train['target'],200)\n",
    "plt.title('Distribution of Target Variable')\n",
    "plt.xlabel('Loyalty Score')\n",
    "plt.grid()"
   ]
  },
  {
   "cell_type": "code",
   "execution_count": 13,
   "metadata": {},
   "outputs": [
    {
     "data": {
      "text/plain": [
       "0    199710\n",
       "1      2207\n",
       "Name: outliers, dtype: int64"
      ]
     },
     "execution_count": 13,
     "metadata": {},
     "output_type": "execute_result"
    }
   ],
   "source": [
    "# Count outliers\n",
    "df_train['outliers'] = 0\n",
    "df_train.loc[df_train['target'] < -30, 'outliers'] = 1\n",
    "df_train['outliers'].value_counts()"
   ]
  },
  {
   "cell_type": "code",
   "execution_count": 14,
   "metadata": {},
   "outputs": [],
   "source": [
    "# Create hist-new interactions\n",
    "for df in [df_train,df_test]:\n",
    "    df['first_active_month'] = pd.to_datetime(df['first_active_month'])\n",
    "    df['dayofweek'] = df['first_active_month'].dt.dayofweek\n",
    "    df['weekofyear'] = df['first_active_month'].dt.weekofyear\n",
    "    df['month'] = df['first_active_month'].dt.month\n",
    "    df['elapsed_time'] = (datetime.datetime.today() - df['first_active_month']).dt.days\n",
    "    df['hist_first_buy'] = (df['hist_purchase_date_min'] - df['first_active_month']).dt.days\n",
    "    df['new_hist_first_buy'] = (df['new_hist_purchase_date_min'] - df['first_active_month']).dt.days\n",
    "    for f in ['hist_purchase_date_max','hist_purchase_date_min','new_hist_purchase_date_max',\\\n",
    "                     'new_hist_purchase_date_min']:\n",
    "        df[f] = df[f].astype(np.int64) * 1e-9\n",
    "    df['card_id_total'] = df['new_hist_card_id_size']+df['hist_card_id_size']\n",
    "    df['purchase_amount_total'] = df['new_hist_purchase_amount_sum']+df['hist_purchase_amount_sum']\n",
    "\n",
    "for f in ['feature_1','feature_2','feature_3']:\n",
    "    order_label = df_train.groupby([f])['outliers'].mean()\n",
    "    df_train[f] = df_train[f].map(order_label)\n",
    "    df_test[f] = df_test[f].map(order_label)"
   ]
  },
  {
   "cell_type": "code",
   "execution_count": 15,
   "metadata": {},
   "outputs": [
    {
     "name": "stdout",
     "output_type": "stream",
     "text": [
      "<class 'pandas.core.frame.DataFrame'>\n",
      "Int64Index: 201917 entries, 0 to 201916\n",
      "Data columns (total 87 columns):\n",
      "first_active_month                       201917 non-null datetime64[ns]\n",
      "card_id                                  201917 non-null object\n",
      "feature_1                                201917 non-null float64\n",
      "feature_2                                201917 non-null float64\n",
      "feature_3                                201917 non-null float64\n",
      "target                                   201917 non-null float64\n",
      "hist_month_nunique                       201917 non-null int64\n",
      "hist_hour_nunique                        201917 non-null int64\n",
      "hist_weekofyear_nunique                  201917 non-null int64\n",
      "hist_dayofweek_nunique                   201917 non-null int64\n",
      "hist_year_nunique                        201917 non-null int64\n",
      "hist_subsector_id_nunique                201917 non-null int64\n",
      "hist_merchant_id_nunique                 201917 non-null int64\n",
      "hist_merchant_category_id_nunique        201917 non-null int64\n",
      "hist_purchase_amount_sum                 201917 non-null float64\n",
      "hist_purchase_amount_max                 201917 non-null float64\n",
      "hist_purchase_amount_min                 201917 non-null float64\n",
      "hist_purchase_amount_mean                201917 non-null float64\n",
      "hist_purchase_amount_var                 201917 non-null float64\n",
      "hist_installments_sum                    201917 non-null int64\n",
      "hist_installments_max                    201917 non-null int64\n",
      "hist_installments_min                    201917 non-null int64\n",
      "hist_installments_mean                   201917 non-null float64\n",
      "hist_installments_var                    201917 non-null float64\n",
      "hist_purchase_date_max                   201917 non-null float64\n",
      "hist_purchase_date_min                   201917 non-null float64\n",
      "hist_month_lag_max                       201917 non-null int64\n",
      "hist_month_lag_min                       201917 non-null int64\n",
      "hist_month_lag_mean                      201917 non-null float64\n",
      "hist_month_lag_var                       201917 non-null float64\n",
      "hist_month_diff_mean                     201917 non-null float64\n",
      "hist_authorized_flag_sum                 201917 non-null int64\n",
      "hist_authorized_flag_mean                201917 non-null float64\n",
      "hist_weekend_sum                         201917 non-null int32\n",
      "hist_weekend_mean                        201917 non-null float64\n",
      "hist_category_1_sum                      201917 non-null int64\n",
      "hist_category_1_mean                     201917 non-null float64\n",
      "hist_card_id_size                        201917 non-null int64\n",
      "hist_category_2_mean_mean                201917 non-null float64\n",
      "hist_category_3_mean_mean                201917 non-null float64\n",
      "hist_purchase_date_diff                  201917 non-null int64\n",
      "hist_purchase_date_average               201917 non-null float64\n",
      "hist_purchase_date_uptonow               201917 non-null int64\n",
      "new_hist_month_nunique                   179986 non-null float64\n",
      "new_hist_hour_nunique                    179986 non-null float64\n",
      "new_hist_weekofyear_nunique              179986 non-null float64\n",
      "new_hist_dayofweek_nunique               179986 non-null float64\n",
      "new_hist_year_nunique                    179986 non-null float64\n",
      "new_hist_subsector_id_nunique            179986 non-null float64\n",
      "new_hist_merchant_id_nunique             179986 non-null float64\n",
      "new_hist_merchant_category_id_nunique    179986 non-null float64\n",
      "new_hist_purchase_amount_sum             179986 non-null float64\n",
      "new_hist_purchase_amount_max             179986 non-null float64\n",
      "new_hist_purchase_amount_min             179986 non-null float64\n",
      "new_hist_purchase_amount_mean            179986 non-null float64\n",
      "new_hist_purchase_amount_var             153199 non-null float64\n",
      "new_hist_installments_sum                179986 non-null float64\n",
      "new_hist_installments_max                179986 non-null float64\n",
      "new_hist_installments_min                179986 non-null float64\n",
      "new_hist_installments_mean               179986 non-null float64\n",
      "new_hist_installments_var                153199 non-null float64\n",
      "new_hist_purchase_date_max               201917 non-null float64\n",
      "new_hist_purchase_date_min               201917 non-null float64\n",
      "new_hist_month_lag_max                   179986 non-null float64\n",
      "new_hist_month_lag_min                   179986 non-null float64\n",
      "new_hist_month_lag_mean                  179986 non-null float64\n",
      "new_hist_month_lag_var                   153199 non-null float64\n",
      "new_hist_month_diff_mean                 179986 non-null float64\n",
      "new_hist_weekend_sum                     179986 non-null float64\n",
      "new_hist_weekend_mean                    179986 non-null float64\n",
      "new_hist_category_1_sum                  179986 non-null float64\n",
      "new_hist_category_1_mean                 179986 non-null float64\n",
      "new_hist_card_id_size                    179986 non-null float64\n",
      "new_hist_category_2_mean_mean            179986 non-null float64\n",
      "new_hist_category_3_mean_mean            179986 non-null float64\n",
      "new_hist_purchase_date_diff              179986 non-null float64\n",
      "new_hist_purchase_date_average           179986 non-null float64\n",
      "new_hist_purchase_date_uptonow           179986 non-null float64\n",
      "outliers                                 201917 non-null int64\n",
      "dayofweek                                201917 non-null int64\n",
      "weekofyear                               201917 non-null int64\n",
      "month                                    201917 non-null int64\n",
      "elapsed_time                             201917 non-null int64\n",
      "hist_first_buy                           201917 non-null int64\n",
      "new_hist_first_buy                       179986 non-null float64\n",
      "card_id_total                            179986 non-null float64\n",
      "purchase_amount_total                    179986 non-null float64\n",
      "dtypes: datetime64[ns](1), float64(60), int32(1), int64(24), object(1)\n",
      "memory usage: 134.8+ MB\n"
     ]
    }
   ],
   "source": [
    "df_train.info()"
   ]
  },
  {
   "cell_type": "markdown",
   "metadata": {},
   "source": [
    "## Fit models"
   ]
  },
  {
   "cell_type": "code",
   "execution_count": 16,
   "metadata": {},
   "outputs": [],
   "source": [
    "X = df_train.drop(['card_id', 'first_active_month','target','outliers'],axis=1)\n",
    "y = df_train['target']\n",
    "X_train, X_test, y_train, y_test = train_test_split(X, y, test_size=0.33, \n",
    "                                                    random_state=1)"
   ]
  },
  {
   "cell_type": "markdown",
   "metadata": {},
   "source": [
    "## Extreme Gradient Boosting"
   ]
  },
  {
   "cell_type": "code",
   "execution_count": 17,
   "metadata": {},
   "outputs": [
    {
     "data": {
      "text/plain": [
       "XGBRegressor(base_score=0.5, booster='gbtree', colsample_bylevel=1,\n",
       "             colsample_bynode=1, colsample_bytree=1, gamma=0,\n",
       "             importance_type='gain', learning_rate=0.5, max_delta_step=0,\n",
       "             max_depth=5, metric='rmse', min_child_weight=1, missing=None,\n",
       "             n_estimators=10, n_jobs=1, nthread=None,\n",
       "             objective='reg:squarederror', random_state=0, reg_alpha=0,\n",
       "             reg_lambda=1, scale_pos_weight=1, seed=None, silent=None,\n",
       "             subsample=1, verbosity=1)"
      ]
     },
     "execution_count": 17,
     "metadata": {},
     "output_type": "execute_result"
    }
   ],
   "source": [
    "xgb_model = XGBRegressor(n_estimators = 10,learning_rate = 0.5,\\\n",
    "                         max_depth=5,objective='reg:squarederror',metric='rmse')\n",
    "xgb_model.fit(X, y)"
   ]
  },
  {
   "cell_type": "code",
   "execution_count": 18,
   "metadata": {},
   "outputs": [],
   "source": [
    "y_pred = xgb_model.predict(X)"
   ]
  },
  {
   "cell_type": "code",
   "execution_count": 19,
   "metadata": {},
   "outputs": [
    {
     "data": {
      "text/plain": [
       "3.599344410082735"
      ]
     },
     "execution_count": 19,
     "metadata": {},
     "output_type": "execute_result"
    }
   ],
   "source": [
    "# Root mean squared error on training set\n",
    "np.sqrt(mean_squared_error(y, y_pred))"
   ]
  },
  {
   "cell_type": "code",
   "execution_count": 20,
   "metadata": {},
   "outputs": [
    {
     "data": {
      "text/html": [
       "<div>\n",
       "<style scoped>\n",
       "    .dataframe tbody tr th:only-of-type {\n",
       "        vertical-align: middle;\n",
       "    }\n",
       "\n",
       "    .dataframe tbody tr th {\n",
       "        vertical-align: top;\n",
       "    }\n",
       "\n",
       "    .dataframe thead th {\n",
       "        text-align: right;\n",
       "    }\n",
       "</style>\n",
       "<table border=\"1\" class=\"dataframe\">\n",
       "  <thead>\n",
       "    <tr style=\"text-align: right;\">\n",
       "      <th></th>\n",
       "      <th>Importance</th>\n",
       "    </tr>\n",
       "  </thead>\n",
       "  <tbody>\n",
       "    <tr>\n",
       "      <th>hist_category_1_sum</th>\n",
       "      <td>8.360076</td>\n",
       "    </tr>\n",
       "    <tr>\n",
       "      <th>hist_weekofyear_nunique</th>\n",
       "      <td>8.276801</td>\n",
       "    </tr>\n",
       "    <tr>\n",
       "      <th>hist_month_diff_mean</th>\n",
       "      <td>5.670074</td>\n",
       "    </tr>\n",
       "    <tr>\n",
       "      <th>hist_weekend_sum</th>\n",
       "      <td>5.374191</td>\n",
       "    </tr>\n",
       "    <tr>\n",
       "      <th>new_hist_month_lag_mean</th>\n",
       "      <td>4.018973</td>\n",
       "    </tr>\n",
       "    <tr>\n",
       "      <th>...</th>\n",
       "      <td>...</td>\n",
       "    </tr>\n",
       "    <tr>\n",
       "      <th>new_hist_subsector_id_nunique</th>\n",
       "      <td>0.000000</td>\n",
       "    </tr>\n",
       "    <tr>\n",
       "      <th>new_hist_weekend_mean</th>\n",
       "      <td>0.000000</td>\n",
       "    </tr>\n",
       "    <tr>\n",
       "      <th>new_hist_weekend_sum</th>\n",
       "      <td>0.000000</td>\n",
       "    </tr>\n",
       "    <tr>\n",
       "      <th>new_hist_merchant_id_nunique</th>\n",
       "      <td>0.000000</td>\n",
       "    </tr>\n",
       "    <tr>\n",
       "      <th>purchase_amount_total</th>\n",
       "      <td>0.000000</td>\n",
       "    </tr>\n",
       "  </tbody>\n",
       "</table>\n",
       "<p>83 rows × 1 columns</p>\n",
       "</div>"
      ],
      "text/plain": [
       "                               Importance\n",
       "hist_category_1_sum              8.360076\n",
       "hist_weekofyear_nunique          8.276801\n",
       "hist_month_diff_mean             5.670074\n",
       "hist_weekend_sum                 5.374191\n",
       "new_hist_month_lag_mean          4.018973\n",
       "...                                   ...\n",
       "new_hist_subsector_id_nunique    0.000000\n",
       "new_hist_weekend_mean            0.000000\n",
       "new_hist_weekend_sum             0.000000\n",
       "new_hist_merchant_id_nunique     0.000000\n",
       "purchase_amount_total            0.000000\n",
       "\n",
       "[83 rows x 1 columns]"
      ]
     },
     "execution_count": 20,
     "metadata": {},
     "output_type": "execute_result"
    }
   ],
   "source": [
    "# Get the importance of features\n",
    "Importance = pd.DataFrame({'Importance':xgb_model.feature_importances_*100},\n",
    "                         index = X.columns)\n",
    "Importance = Importance.sort_values(by = 'Importance',axis = 0,ascending = False)\n",
    "Importance"
   ]
  },
  {
   "cell_type": "code",
   "execution_count": 57,
   "metadata": {},
   "outputs": [
    {
     "data": {
      "image/png": "[encoded data removed]",
      "text/plain": [
       "<Figure size 432x288 with 1 Axes>"
      ]
     },
     "metadata": {
      "needs_background": "light"
     },
     "output_type": "display_data"
    }
   ],
   "source": [
    "Importance[:20].sort_values(by = 'Importance',axis = 0,ascending = True).\\\n",
    "                            plot(kind = 'barh',color='r')\n",
    "plt.xlabel('Feature Importance')\n",
    "plt.gca().legend_ = None\n",
    "plt.grid()"
   ]
  },
  {
   "cell_type": "code",
   "execution_count": 22,
   "metadata": {},
   "outputs": [],
   "source": [
    "# get features with non-zero importance\n",
    "feature_list = Importance[Importance.values!=0].index.values"
   ]
  },
  {
   "cell_type": "code",
   "execution_count": 26,
   "metadata": {
    "scrolled": false
   },
   "outputs": [
    {
     "name": "stdout",
     "output_type": "stream",
     "text": [
      "Fitting 5 folds for each of 48 candidates, totalling 240 fits\n"
     ]
    },
    {
     "name": "stderr",
     "output_type": "stream",
     "text": [
      "[Parallel(n_jobs=-1)]: Using backend LokyBackend with 4 concurrent workers.\n",
      "[Parallel(n_jobs=-1)]: Done  42 tasks      | elapsed: 35.1min\n",
      "[Parallel(n_jobs=-1)]: Done 192 tasks      | elapsed: 316.2min\n",
      "[Parallel(n_jobs=-1)]: Done 240 out of 240 | elapsed: 431.9min finished\n"
     ]
    },
    {
     "name": "stdout",
     "output_type": "stream",
     "text": [
      "{'learning_rate': 0.1, 'max_depth': 5, 'n_estimators': 100}\n"
     ]
    }
   ],
   "source": [
    "# Tune parameters for xgboost\n",
    "kfold = KFold(n_splits=5, shuffle=True, random_state=1)\n",
    "param_grid = [{'learning_rate':[0.01,0.1,0.5,0.8], 'max_depth':[3,5,10],\\\n",
    "              'n_estimators':[10,50,100,500]}]\n",
    "grid = GridSearchCV(XGBRegressor(objective='reg:squarederror'),n_jobs=-1,param_grid=param_grid,\\\n",
    "                    scoring='neg_mean_squared_error',cv=kfold,verbose=1)\n",
    "grid.fit(X[feature_list], y)\n",
    "print(grid.best_params_)"
   ]
  },
  {
   "cell_type": "code",
   "execution_count": 37,
   "metadata": {},
   "outputs": [
    {
     "data": {
      "text/plain": [
       "3.5322381136557928"
      ]
     },
     "execution_count": 37,
     "metadata": {},
     "output_type": "execute_result"
    }
   ],
   "source": [
    "# Root mean squared error for training set\n",
    "xgb_model = XGBRegressor(n_estimators = 100,learning_rate = 0.1,\\\n",
    "                         max_depth=5,objective='reg:squarederror',metric='rmse')\n",
    "xgb_model.fit(X[feature_list], y)\n",
    "y_pred = xgb_model.predict(X[feature_list])\n",
    "xgb_train_root_mse = np.sqrt(mean_squared_error(y, y_pred))\n",
    "xgb_train_root_mse"
   ]
  },
  {
   "cell_type": "code",
   "execution_count": 41,
   "metadata": {},
   "outputs": [
    {
     "data": {
      "text/plain": [
       "0.09099627695832879"
      ]
     },
     "execution_count": 41,
     "metadata": {},
     "output_type": "execute_result"
    }
   ],
   "source": [
    "# Cross validation\n",
    "xgb_cv = np.mean(cross_val_score(xgb_model, X[feature_list], y, cv=3))\n",
    "xgb_cv"
   ]
  },
  {
   "cell_type": "code",
   "execution_count": 36,
   "metadata": {},
   "outputs": [
    {
     "data": {
      "text/plain": [
       "3.721535369239202"
      ]
     },
     "execution_count": 36,
     "metadata": {},
     "output_type": "execute_result"
    }
   ],
   "source": [
    "# Root mean squraed error for testing set\n",
    "xgb_model.fit(X_train[feature_list], y_train)\n",
    "y_pred = xgb_model.predict(X_test[feature_list])\n",
    "xgb_test_root_mse = np.sqrt(mean_squared_error(y_test, y_pred))\n",
    "xgb_test_root_mse"
   ]
  }
 ],
 "metadata": {
  "colab": {
   "name": "ISE529_Final.ipynb",
   "provenance": []
  },
  "kernelspec": {
   "display_name": "Python 3",
   "language": "python",
   "name": "python3"
  },
  "language_info": {
   "codemirror_mode": {
    "name": "ipython",
    "version": 3
   },
   "file_extension": ".py",
   "mimetype": "text/x-python",
   "name": "python",
   "nbconvert_exporter": "python",
   "pygments_lexer": "ipython3",
   "version": "3.7.3"
  }
 },
 "nbformat": 4,
 "nbformat_minor": 1
}
